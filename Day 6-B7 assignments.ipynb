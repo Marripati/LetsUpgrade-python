{
 "cells": [
  {
   "cell_type": "code",
   "execution_count": 1,
   "metadata": {},
   "outputs": [],
   "source": [
    "#assignment 1\n",
    "class BankAccount():\n",
    "    owner=\"\"\n",
    "    balance=0\n",
    "    def __init__(self,owner,balance):\n",
    "        self.owner=owner\n",
    "        self.balance=balance\n",
    "    def deposit(self):\n",
    "        amount=int(input(\"enter amount\"))\n",
    "        self.balance=self.balance+amount\n",
    "        print(\"U CREDITED WITH: {} AND CURRENT BALANCE:{}\".format(amount,self.balance))\n",
    "    def withDraw(self):\n",
    "        amount=int(input(\"enter amount\"))\n",
    "        if amount > self.balance:\n",
    "            print(\"INSUFFICIENT BALANCE!!! YOU HAVE ONLY:{}\".format(self.balance))\n",
    "        else:\n",
    "            self.balance=self.balance-amount\n",
    "            print(\"WITHDRAWL ACCEPTED,YOUR REMAINING BALANCE:{}\".format(self.balance))\n",
    "        "
   ]
  },
  {
   "cell_type": "code",
   "execution_count": 2,
   "metadata": {},
   "outputs": [],
   "source": [
    "a=BankAccount(\"jyothi\",2000)"
   ]
  },
  {
   "cell_type": "code",
   "execution_count": 3,
   "metadata": {},
   "outputs": [
    {
     "name": "stdout",
     "output_type": "stream",
     "text": [
      "enter amount4000\n",
      "U CREDITED WITH: 4000 AND CURRENT BALANCE:6000\n"
     ]
    }
   ],
   "source": [
    "a.deposit()"
   ]
  },
  {
   "cell_type": "code",
   "execution_count": 5,
   "metadata": {},
   "outputs": [
    {
     "name": "stdout",
     "output_type": "stream",
     "text": [
      "enter amount8000\n",
      "INSUFFICIENT BALANCE!!! YOU HAVE ONLY:4000\n"
     ]
    }
   ],
   "source": [
    "a.withDraw()\n"
   ]
  },
  {
   "cell_type": "code",
   "execution_count": 6,
   "metadata": {},
   "outputs": [
    {
     "name": "stdout",
     "output_type": "stream",
     "text": [
      "enter amount3000\n",
      "WITHDRAWL ACCEPTED,YOUR REMAINING BALANCE:1000\n"
     ]
    }
   ],
   "source": [
    "a.withDraw()"
   ]
  },
  {
   "cell_type": "code",
   "execution_count": 1,
   "metadata": {},
   "outputs": [],
   "source": [
    "#assignment 2\n",
    "from math import pi,sqrt\n",
    "class cone():\n",
    "    radius=0\n",
    "    height=0\n",
    "    def __init__(self,radius,height):\n",
    "        self.radius=radius\n",
    "        self.height=height\n",
    "    def volume(self,radius,height):\n",
    "        vol=pi*radius*radius*(height/3)\n",
    "        print(\"VOLUME OF A CONE:{:.2F}\".format(vol))\n",
    "    def surfaceArea(self,radius,height):\n",
    "        l=sqrt(sqrt(radius)+sqrt(height))\n",
    "        SA=pi*radius*(radius+1)\n",
    "        print(\"SURFACE AREA OF CONE:{:.2F}\".format(SA))\n",
    "        "
   ]
  },
  {
   "cell_type": "code",
   "execution_count": 2,
   "metadata": {},
   "outputs": [],
   "source": [
    "a=cone(3,3)"
   ]
  },
  {
   "cell_type": "code",
   "execution_count": 3,
   "metadata": {},
   "outputs": [
    {
     "name": "stdout",
     "output_type": "stream",
     "text": [
      "VOLUME OF A CONE:28.27\n"
     ]
    }
   ],
   "source": [
    "a.volume(3,3)"
   ]
  },
  {
   "cell_type": "code",
   "execution_count": 4,
   "metadata": {},
   "outputs": [
    {
     "name": "stdout",
     "output_type": "stream",
     "text": [
      "SURFACE AREA OF CONE:62.83\n"
     ]
    }
   ],
   "source": [
    "a.surfaceArea(4,4)"
   ]
  },
  {
   "cell_type": "code",
   "execution_count": null,
   "metadata": {},
   "outputs": [],
   "source": []
  }
 ],
 "metadata": {
  "kernelspec": {
   "display_name": "Python 3",
   "language": "python",
   "name": "python3"
  },
  "language_info": {
   "codemirror_mode": {
    "name": "ipython",
    "version": 3
   },
   "file_extension": ".py",
   "mimetype": "text/x-python",
   "name": "python",
   "nbconvert_exporter": "python",
   "pygments_lexer": "ipython3",
   "version": "3.8.3"
  }
 },
 "nbformat": 4,
 "nbformat_minor": 4
}

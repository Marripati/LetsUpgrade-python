{
 "cells": [
  {
   "cell_type": "code",
   "execution_count": 2,
   "metadata": {},
   "outputs": [
    {
     "name": "stdout",
     "output_type": "stream",
     "text": [
      "<generator object armstrongnum at 0x000002077D69F740>\n"
     ]
    }
   ],
   "source": [
    "#assignment 2\n",
    "def armstrongnum(lst):\n",
    "    for item in lst:\n",
    "        order = len(str(item))\n",
    "        sum=0\n",
    "        temp=item\n",
    "        while temp > 0:\n",
    "            digit = temp % 10\n",
    "            sum += digit ** order \n",
    "            temp //= 10\n",
    "        if item == sum:\n",
    "            yield item\n",
    "lst=list(range(1000))\n",
    "k=armstrongnum(lst)\n",
    "print(k)\n",
    "        \n",
    "    "
   ]
  },
  {
   "cell_type": "code",
   "execution_count": 3,
   "metadata": {},
   "outputs": [
    {
     "data": {
      "text/plain": [
       "[0, 1, 2, 3, 4, 5, 6, 7, 8, 9, 153, 370, 371, 407]"
      ]
     },
     "execution_count": 3,
     "metadata": {},
     "output_type": "execute_result"
    }
   ],
   "source": [
    "list(k)\n"
   ]
  },
  {
   "cell_type": "code",
   "execution_count": 4,
   "metadata": {
    "scrolled": true
   },
   "outputs": [
    {
     "name": "stdout",
     "output_type": "stream",
     "text": [
      "Requirement already satisfied: pylint in c:\\users\\user\\anaconda3\\lib\\site-packages (2.5.3)\n",
      "Requirement already satisfied: colorama; sys_platform == \"win32\" in c:\\users\\user\\anaconda3\\lib\\site-packages (from pylint) (0.4.3)\n",
      "Requirement already satisfied: toml>=0.7.1 in c:\\users\\user\\anaconda3\\lib\\site-packages (from pylint) (0.10.1)\n",
      "Requirement already satisfied: isort<5,>=4.2.5 in c:\\users\\user\\anaconda3\\lib\\site-packages (from pylint) (4.3.21)\n",
      "Requirement already satisfied: mccabe<0.7,>=0.6 in c:\\users\\user\\anaconda3\\lib\\site-packages (from pylint) (0.6.1)\n",
      "Requirement already satisfied: astroid<=2.5,>=2.4.0 in c:\\users\\user\\anaconda3\\lib\\site-packages (from pylint) (2.4.2)\n",
      "Requirement already satisfied: six~=1.12 in c:\\users\\user\\anaconda3\\lib\\site-packages (from astroid<=2.5,>=2.4.0->pylint) (1.15.0)\n",
      "Requirement already satisfied: wrapt~=1.11 in c:\\users\\user\\anaconda3\\lib\\site-packages (from astroid<=2.5,>=2.4.0->pylint) (1.11.2)\n",
      "Requirement already satisfied: lazy-object-proxy==1.4.* in c:\\users\\user\\anaconda3\\lib\\site-packages (from astroid<=2.5,>=2.4.0->pylint) (1.4.3)\n"
     ]
    }
   ],
   "source": [
    "! pip install pylint"
   ]
  },
  {
   "cell_type": "code",
   "execution_count": 18,
   "metadata": {},
   "outputs": [
    {
     "name": "stdout",
     "output_type": "stream",
     "text": [
      "Overwriting func.py\n"
     ]
    }
   ],
   "source": [
    "#assignment 1\n",
    "%%writefile func.py\n",
    "def prime_or_not(n): \n",
    "    \"\"\" it is function to check prime or not \"\"\"\n",
    "    if n == 1:\n",
    "        return False\n",
    "    elif n == 2:\n",
    "        return True\n",
    "    else:\n",
    "        for x in range(2, n):\n",
    "            if n%x == 0:\n",
    "                return False\n",
    "        return True\n",
    "prime_or_not(5)\n",
    "        \n",
    "    "
   ]
  },
  {
   "cell_type": "code",
   "execution_count": 19,
   "metadata": {},
   "outputs": [
    {
     "name": "stdout",
     "output_type": "stream",
     "text": [
      "************* Module func\n",
      "func.py:1:20: C0303: Trailing whitespace (trailing-whitespace)\n",
      "func.py:13:0: C0303: Trailing whitespace (trailing-whitespace)\n",
      "func.py:14:0: C0303: Trailing whitespace (trailing-whitespace)\n",
      "func.py:1:0: C0114: Missing module docstring (missing-module-docstring)\n",
      "func.py:1:0: C0103: Argument name \"n\" doesn't conform to snake_case naming style (invalid-name)\n",
      "func.py:3:4: R1705: Unnecessary \"elif\" after \"return\" (no-else-return)\n",
      "func.py:8:12: C0103: Variable name \"x\" doesn't conform to snake_case naming style (invalid-name)\n",
      "\n",
      "------------------------------------------------------------------\n",
      "\n",
      "Your code has been rated at 3.00/10 (previous run: 3.00/10, +0.00)\n",
      "\n",
      "\n",
      "\n"
     ]
    }
   ],
   "source": [
    "! pylint \"func.py\"\n"
   ]
  },
  {
   "cell_type": "code",
   "execution_count": 20,
   "metadata": {},
   "outputs": [
    {
     "name": "stdout",
     "output_type": "stream",
     "text": [
      "Overwriting func2.py\n"
     ]
    }
   ],
   "source": [
    "%%writefile func2.py\n",
    "import unittest\n",
    "import func2\n",
    "class testprime(unittest.TestCase):\n",
    "    def testnum(self):\n",
    "        d=11\n",
    "        result=dj.prime_or_not(d)\n",
    "        self.assertEqual(result, True)\n",
    "if __name__==\"__main__\":\n",
    "    unittest.main()\n",
    "        "
   ]
  },
  {
   "cell_type": "code",
   "execution_count": 21,
   "metadata": {},
   "outputs": [
    {
     "name": "stdout",
     "output_type": "stream",
     "text": [
      "************* Module func\n",
      "func.py:1:20: C0303: Trailing whitespace (trailing-whitespace)\n",
      "func.py:13:0: C0303: Trailing whitespace (trailing-whitespace)\n",
      "func.py:14:0: C0303: Trailing whitespace (trailing-whitespace)\n",
      "func.py:1:0: C0114: Missing module docstring (missing-module-docstring)\n",
      "func.py:1:0: C0103: Argument name \"n\" doesn't conform to snake_case naming style (invalid-name)\n",
      "func.py:3:4: R1705: Unnecessary \"elif\" after \"return\" (no-else-return)\n",
      "func.py:8:12: C0103: Variable name \"x\" doesn't conform to snake_case naming style (invalid-name)\n",
      "\n",
      "------------------------------------------------------------------\n",
      "\n",
      "Your code has been rated at 3.00/10 (previous run: 3.00/10, +0.00)\n",
      "\n",
      "\n",
      "\n"
     ]
    }
   ],
   "source": [
    "! pylint \"func.py\""
   ]
  },
  {
   "cell_type": "code",
   "execution_count": null,
   "metadata": {},
   "outputs": [],
   "source": []
  }
 ],
 "metadata": {
  "kernelspec": {
   "display_name": "Python 3",
   "language": "python",
   "name": "python3"
  },
  "language_info": {
   "codemirror_mode": {
    "name": "ipython",
    "version": 3
   },
   "file_extension": ".py",
   "mimetype": "text/x-python",
   "name": "python",
   "nbconvert_exporter": "python",
   "pygments_lexer": "ipython3",
   "version": "3.8.3"
  }
 },
 "nbformat": 4,
 "nbformat_minor": 4
}

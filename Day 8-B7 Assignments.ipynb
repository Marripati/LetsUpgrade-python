{
 "cells": [
  {
   "cell_type": "code",
   "execution_count": 1,
   "metadata": {},
   "outputs": [],
   "source": [
    "#Assignment-1\n",
    "def fib(self, N):\n",
    "    cache = {}\n",
    "    def recur_fib(N):\n",
    "        if N in cache:\n",
    "            return cache[N]\n",
    "\n",
    "        if N < 2:\n",
    "            result = N\n",
    "        else:\n",
    "            result = recur_fib(N-1) + recur_fib(N-2)\n",
    "        cache[N] = result\n",
    "        return result\n",
    "\n",
    "    return recur_fib(N)\n"
   ]
  },
  {
   "cell_type": "code",
   "execution_count": 5,
   "metadata": {},
   "outputs": [
    {
     "data": {
      "text/plain": [
       "55"
      ]
     },
     "execution_count": 5,
     "metadata": {},
     "output_type": "execute_result"
    }
   ],
   "source": [
    "fib(0,10)"
   ]
  },
  {
   "cell_type": "code",
   "execution_count": 6,
   "metadata": {},
   "outputs": [
    {
     "name": "stdout",
     "output_type": "stream",
     "text": [
      "file mode entered is different\n",
      "i am finally block\n"
     ]
    }
   ],
   "source": [
    "#assignment-2\n",
    "try:\n",
    "    file=open(\"fcs.txt\",\"r\")\n",
    "    file.write(\"hey this is jyothi\")\n",
    "    file.close()\n",
    "    print(\"try is working fine\")\n",
    "except OSError:\n",
    "    print(\"file mode entered is different\")\n",
    "else:\n",
    "    print(\"i am else block\")\n",
    "finally:\n",
    "    print(\"i am finally block\")"
   ]
  },
  {
   "cell_type": "code",
   "execution_count": null,
   "metadata": {},
   "outputs": [],
   "source": []
  }
 ],
 "metadata": {
  "kernelspec": {
   "display_name": "Python 3",
   "language": "python",
   "name": "python3"
  },
  "language_info": {
   "codemirror_mode": {
    "name": "ipython",
    "version": 3
   },
   "file_extension": ".py",
   "mimetype": "text/x-python",
   "name": "python",
   "nbconvert_exporter": "python",
   "pygments_lexer": "ipython3",
   "version": "3.8.3"
  }
 },
 "nbformat": 4,
 "nbformat_minor": 4
}
